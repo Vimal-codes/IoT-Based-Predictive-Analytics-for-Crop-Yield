{
 "cells": [
  {
   "cell_type": "code",
   "execution_count": 1,
   "id": "58e8eadc",
   "metadata": {},
   "outputs": [],
   "source": [
    "import pandas as pd\n",
    "import matplotlib.pyplot as plt\n",
    "from sklearn.metrics import r2_score\n",
    "import numpy as np\n",
    "import seaborn as sns\n",
    "import warnings\n",
    "warnings.filterwarnings('ignore')\n",
    "import os"
   ]
  },
  {
   "cell_type": "code",
   "execution_count": null,
   "id": "a3be4194",
   "metadata": {},
   "outputs": [],
   "source": []
  },
  {
   "cell_type": "markdown",
   "id": "2062cdc0",
   "metadata": {},
   "source": [
    "# Data preparation"
   ]
  },
  {
   "cell_type": "code",
   "execution_count": 4,
   "id": "216a4437",
   "metadata": {},
   "outputs": [
    {
     "name": "stdout",
     "output_type": "stream",
     "text": [
      "<class 'pandas.core.frame.DataFrame'>\n",
      "RangeIndex: 99849 entries, 0 to 99848\n",
      "Data columns (total 13 columns):\n",
      " #   Column              Non-Null Count  Dtype  \n",
      "---  ------              --------------  -----  \n",
      " 0   Unnamed: 0          99849 non-null  int64  \n",
      " 1   State_Name          99849 non-null  object \n",
      " 2   Crop_Type           99849 non-null  object \n",
      " 3   Crop                99849 non-null  object \n",
      " 4   N                   99849 non-null  int64  \n",
      " 5   P                   99849 non-null  int64  \n",
      " 6   K                   99849 non-null  int64  \n",
      " 7   pH                  99849 non-null  float64\n",
      " 8   rainfall            99849 non-null  float64\n",
      " 9   temperature         99849 non-null  float64\n",
      " 10  Area_in_hectares    99849 non-null  float64\n",
      " 11  Production_in_tons  99849 non-null  float64\n",
      " 12  Yield_ton_per_hec   99849 non-null  float64\n",
      "dtypes: float64(6), int64(4), object(3)\n",
      "memory usage: 9.9+ MB\n"
     ]
    }
   ],
   "source": [
    "df = pd.read_csv(r\"C:\\Users\\rvima\\MP OG - Copy\\Crop_production_.csv\")\n",
    "df.info()"
   ]
  },
  {
   "cell_type": "code",
   "execution_count": 5,
   "id": "f7b60180",
   "metadata": {},
   "outputs": [
    {
     "name": "stdout",
     "output_type": "stream",
     "text": [
      "Shape of the dataset :  (99849, 13)\n"
     ]
    }
   ],
   "source": [
    "print(\"Shape of the dataset : \",df.shape)"
   ]
  },
  {
   "cell_type": "markdown",
   "id": "375fcfb1",
   "metadata": {},
   "source": [
    "# Data Pre-Processing"
   ]
  },
  {
   "cell_type": "code",
   "execution_count": 6,
   "id": "9292818b",
   "metadata": {},
   "outputs": [
    {
     "data": {
      "text/plain": [
       "Unnamed: 0            0\n",
       "State_Name            0\n",
       "Crop_Type             0\n",
       "Crop                  0\n",
       "N                     0\n",
       "P                     0\n",
       "K                     0\n",
       "pH                    0\n",
       "rainfall              0\n",
       "temperature           0\n",
       "Area_in_hectares      0\n",
       "Production_in_tons    0\n",
       "Yield_ton_per_hec     0\n",
       "dtype: int64"
      ]
     },
     "execution_count": 6,
     "metadata": {},
     "output_type": "execute_result"
    }
   ],
   "source": [
    "df.isnull().sum()"
   ]
  },
  {
   "cell_type": "code",
   "execution_count": 7,
   "id": "4aeacf2c",
   "metadata": {},
   "outputs": [],
   "source": [
    "del df['Unnamed: 0']"
   ]
  },
  {
   "cell_type": "code",
   "execution_count": 8,
   "id": "3e126556",
   "metadata": {},
   "outputs": [
    {
     "data": {
      "text/plain": [
       "State_Name            0\n",
       "Crop_Type             0\n",
       "Crop                  0\n",
       "N                     0\n",
       "P                     0\n",
       "K                     0\n",
       "pH                    0\n",
       "rainfall              0\n",
       "temperature           0\n",
       "Area_in_hectares      0\n",
       "Production_in_tons    0\n",
       "Yield_ton_per_hec     0\n",
       "dtype: int64"
      ]
     },
     "execution_count": 8,
     "metadata": {},
     "output_type": "execute_result"
    }
   ],
   "source": [
    "df.isnull().sum()"
   ]
  },
  {
   "cell_type": "code",
   "execution_count": 9,
   "id": "76f1f370",
   "metadata": {},
   "outputs": [
    {
     "data": {
      "text/plain": [
       "Crop\n",
       "rice           11430\n",
       "maize           9857\n",
       "moong           6855\n",
       "sesamum         6291\n",
       "wheat           6225\n",
       "rapeseed        5413\n",
       "jowar           5369\n",
       "potato          5324\n",
       "onion           5164\n",
       "sunflower       3682\n",
       "cotton          3157\n",
       "barley          3139\n",
       "ragi            2995\n",
       "sweetpotato     2899\n",
       "horsegram       2784\n",
       "turmeric        2562\n",
       "banana          2409\n",
       "soyabean        2325\n",
       "coriander       2253\n",
       "garlic          2138\n",
       "arecanut        1154\n",
       "tapioca         1134\n",
       "jute            1058\n",
       "cashewnuts       732\n",
       "blackpepper      571\n",
       "mango            330\n",
       "tomato           284\n",
       "brinjal          282\n",
       "papaya           281\n",
       "cardamom         237\n",
       "ladyfinger       217\n",
       "orange           146\n",
       "cabbage          125\n",
       "pineapple        117\n",
       "cauliflower      105\n",
       "grapes           104\n",
       "jackfruit         90\n",
       "drumstick         73\n",
       "cucumber          72\n",
       "bittergourd       67\n",
       "watermelon        59\n",
       "blackgram         58\n",
       "bottlegourd       58\n",
       "radish            45\n",
       "pumpkin           37\n",
       "carrot            28\n",
       "ashgourd          28\n",
       "pomegranate       24\n",
       "ridgegourd        21\n",
       "ginger            18\n",
       "beetroot          14\n",
       "coffee             6\n",
       "apple              3\n",
       "Name: count, dtype: int64"
      ]
     },
     "execution_count": 9,
     "metadata": {},
     "output_type": "execute_result"
    }
   ],
   "source": [
    "df['Crop'].value_counts()"
   ]
  },
  {
   "cell_type": "code",
   "execution_count": 10,
   "id": "5075bbe5",
   "metadata": {},
   "outputs": [
    {
     "name": "stdout",
     "output_type": "stream",
     "text": [
      "        State_Name Crop_Type  Crop   N   P   K    pH  rainfall  temperature  \\\n",
      "6   andhra pradesh    kharif  rice  80  40  40  5.54    654.34    29.266667   \n",
      "12  andhra pradesh      rabi  rice  80  40  40  5.54    288.30    25.460000   \n",
      "20  andhra pradesh    kharif  rice  80  40  40  5.50    654.34    29.266667   \n",
      "25  andhra pradesh      rabi  rice  80  40  40  5.40    288.30    25.460000   \n",
      "31  andhra pradesh    kharif  rice  80  40  40  5.34    654.34    29.266667   \n",
      "\n",
      "    Area_in_hectares  Production_in_tons  Yield_ton_per_hec  \n",
      "6            35600.0             75400.0           2.117978  \n",
      "12           18000.0             37300.0           2.072222  \n",
      "20           42300.0             84400.0           1.995272  \n",
      "25           57400.0            137400.0           2.393728  \n",
      "31          214100.0            429300.0           2.005138  \n",
      "Shape of the rice dataset: (11430, 12)\n"
     ]
    }
   ],
   "source": [
    "# Filter the DataFrame to only include rows where the 'Crop' is 'Rice'\n",
    "rice_df = df[(df['Crop'] == 'rice')]\n",
    "# Display the first few rows of the rice data to verify\n",
    "print(rice_df.head())\n",
    "\n",
    "# Checking the shape of the new DataFrame to see how many entries are about rice\n",
    "print(\"Shape of the rice dataset:\", rice_df.shape)"
   ]
  },
  {
   "cell_type": "code",
   "execution_count": 11,
   "id": "5530f2f4",
   "metadata": {},
   "outputs": [
    {
     "name": "stdout",
     "output_type": "stream",
     "text": [
      "<class 'pandas.core.frame.DataFrame'>\n",
      "Index: 11430 entries, 6 to 99847\n",
      "Data columns (total 12 columns):\n",
      " #   Column              Non-Null Count  Dtype  \n",
      "---  ------              --------------  -----  \n",
      " 0   State_Name          11430 non-null  object \n",
      " 1   Crop_Type           11430 non-null  object \n",
      " 2   Crop                11430 non-null  object \n",
      " 3   N                   11430 non-null  int64  \n",
      " 4   P                   11430 non-null  int64  \n",
      " 5   K                   11430 non-null  int64  \n",
      " 6   pH                  11430 non-null  float64\n",
      " 7   rainfall            11430 non-null  float64\n",
      " 8   temperature         11430 non-null  float64\n",
      " 9   Area_in_hectares    11430 non-null  float64\n",
      " 10  Production_in_tons  11430 non-null  float64\n",
      " 11  Yield_ton_per_hec   11430 non-null  float64\n",
      "dtypes: float64(6), int64(3), object(3)\n",
      "memory usage: 1.1+ MB\n"
     ]
    }
   ],
   "source": [
    "rice_df.info()"
   ]
  },
  {
   "cell_type": "code",
   "execution_count": 12,
   "id": "74203d09",
   "metadata": {},
   "outputs": [
    {
     "data": {
      "image/png": "[encoded data removed]",
      "text/plain": [
       "<Figure size 1000x800 with 2 Axes>"
      ]
     },
     "metadata": {},
     "output_type": "display_data"
    }
   ],
   "source": [
    "# Exclude 'N', 'P', and 'K' columns from correlation calculation\n",
    "rice_numeric = rice_df.drop(columns=['N', 'P', 'K'])\n",
    "\n",
    "# Exclude non-numeric columns and 'N', 'P', 'K' columns from correlation calculation\n",
    "rice_numeric = rice_df.drop(columns=['State_Name', 'Crop_Type', 'Crop', 'N', 'P', 'K'])\n",
    "\n",
    "plt.figure(figsize=(10,8))\n",
    "sns.heatmap(rice_numeric.corr(), annot=True, cmap='coolwarm')\n",
    "plt.title('Correlation Heatmap of Numeric Features for Rice (Excluding non-numeric and N, P, K columns)')\n",
    "plt.show()"
   ]
  },
  {
   "cell_type": "code",
   "execution_count": 13,
   "id": "7a7be154",
   "metadata": {},
   "outputs": [
    {
     "data": {
      "text/plain": [
       "0"
      ]
     },
     "execution_count": 13,
     "metadata": {},
     "output_type": "execute_result"
    }
   ],
   "source": [
    "rice_df.duplicated().sum()"
   ]
  },
  {
   "cell_type": "code",
   "execution_count": 14,
   "id": "e47e3c6b",
   "metadata": {},
   "outputs": [],
   "source": [
    "import matplotlib.pyplot as plt\n",
    "%matplotlib inline"
   ]
  },
  {
   "cell_type": "markdown",
   "id": "044f987a",
   "metadata": {},
   "source": [
    "# Splitting the data into training and testing sets"
   ]
  },
  {
   "cell_type": "code",
   "execution_count": 15,
   "id": "18593d7d",
   "metadata": {},
   "outputs": [],
   "source": [
    "from sklearn.model_selection import train_test_split"
   ]
  },
  {
   "cell_type": "code",
   "execution_count": 16,
   "id": "4f375ac2",
   "metadata": {},
   "outputs": [
    {
     "name": "stdout",
     "output_type": "stream",
     "text": [
      "Index(['State_Name', 'Crop_Type', 'Crop', 'N', 'P', 'K', 'pH', 'rainfall',\n",
      "       'temperature', 'Area_in_hectares', 'Production_in_tons',\n",
      "       'Yield_ton_per_hec'],\n",
      "      dtype='object')\n"
     ]
    }
   ],
   "source": [
    "print(rice_df.columns)"
   ]
  },
  {
   "cell_type": "markdown",
   "id": "936f28a3",
   "metadata": {},
   "source": [
    "# Data splitting"
   ]
  },
  {
   "cell_type": "code",
   "execution_count": 17,
   "id": "216d517e",
   "metadata": {},
   "outputs": [],
   "source": [
    "X=rice_df[['pH','rainfall','temperature','Area_in_hectares']]\n",
    "Y=rice_df['Production_in_tons']"
   ]
  },
  {
   "cell_type": "code",
   "execution_count": 18,
   "id": "a7046a98",
   "metadata": {},
   "outputs": [
    {
     "data": {
      "text/html": [
       "<div>\n",
       "<style scoped>\n",
       "    .dataframe tbody tr th:only-of-type {\n",
       "        vertical-align: middle;\n",
       "    }\n",
       "\n",
       "    .dataframe tbody tr th {\n",
       "        vertical-align: top;\n",
       "    }\n",
       "\n",
       "    .dataframe thead th {\n",
       "        text-align: right;\n",
       "    }\n",
       "</style>\n",
       "<table border=\"1\" class=\"dataframe\">\n",
       "  <thead>\n",
       "    <tr style=\"text-align: right;\">\n",
       "      <th></th>\n",
       "      <th>pH</th>\n",
       "      <th>rainfall</th>\n",
       "      <th>temperature</th>\n",
       "      <th>Area_in_hectares</th>\n",
       "    </tr>\n",
       "  </thead>\n",
       "  <tbody>\n",
       "    <tr>\n",
       "      <th>6</th>\n",
       "      <td>5.54</td>\n",
       "      <td>654.34</td>\n",
       "      <td>29.266667</td>\n",
       "      <td>35600.0</td>\n",
       "    </tr>\n",
       "    <tr>\n",
       "      <th>12</th>\n",
       "      <td>5.54</td>\n",
       "      <td>288.30</td>\n",
       "      <td>25.460000</td>\n",
       "      <td>18000.0</td>\n",
       "    </tr>\n",
       "    <tr>\n",
       "      <th>20</th>\n",
       "      <td>5.50</td>\n",
       "      <td>654.34</td>\n",
       "      <td>29.266667</td>\n",
       "      <td>42300.0</td>\n",
       "    </tr>\n",
       "    <tr>\n",
       "      <th>25</th>\n",
       "      <td>5.40</td>\n",
       "      <td>288.30</td>\n",
       "      <td>25.460000</td>\n",
       "      <td>57400.0</td>\n",
       "    </tr>\n",
       "    <tr>\n",
       "      <th>31</th>\n",
       "      <td>5.34</td>\n",
       "      <td>654.34</td>\n",
       "      <td>29.266667</td>\n",
       "      <td>214100.0</td>\n",
       "    </tr>\n",
       "    <tr>\n",
       "      <th>...</th>\n",
       "      <td>...</td>\n",
       "      <td>...</td>\n",
       "      <td>...</td>\n",
       "      <td>...</td>\n",
       "    </tr>\n",
       "    <tr>\n",
       "      <th>99829</th>\n",
       "      <td>5.64</td>\n",
       "      <td>182.50</td>\n",
       "      <td>29.200000</td>\n",
       "      <td>98567.0</td>\n",
       "    </tr>\n",
       "    <tr>\n",
       "      <th>99831</th>\n",
       "      <td>5.40</td>\n",
       "      <td>152.54</td>\n",
       "      <td>22.280000</td>\n",
       "      <td>88778.0</td>\n",
       "    </tr>\n",
       "    <tr>\n",
       "      <th>99836</th>\n",
       "      <td>5.32</td>\n",
       "      <td>1166.94</td>\n",
       "      <td>28.333333</td>\n",
       "      <td>122.0</td>\n",
       "    </tr>\n",
       "    <tr>\n",
       "      <th>99846</th>\n",
       "      <td>5.64</td>\n",
       "      <td>182.50</td>\n",
       "      <td>29.200000</td>\n",
       "      <td>105.0</td>\n",
       "    </tr>\n",
       "    <tr>\n",
       "      <th>99847</th>\n",
       "      <td>5.42</td>\n",
       "      <td>152.54</td>\n",
       "      <td>22.280000</td>\n",
       "      <td>152676.0</td>\n",
       "    </tr>\n",
       "  </tbody>\n",
       "</table>\n",
       "<p>11430 rows × 4 columns</p>\n",
       "</div>"
      ],
      "text/plain": [
       "         pH  rainfall  temperature  Area_in_hectares\n",
       "6      5.54    654.34    29.266667           35600.0\n",
       "12     5.54    288.30    25.460000           18000.0\n",
       "20     5.50    654.34    29.266667           42300.0\n",
       "25     5.40    288.30    25.460000           57400.0\n",
       "31     5.34    654.34    29.266667          214100.0\n",
       "...     ...       ...          ...               ...\n",
       "99829  5.64    182.50    29.200000           98567.0\n",
       "99831  5.40    152.54    22.280000           88778.0\n",
       "99836  5.32   1166.94    28.333333             122.0\n",
       "99846  5.64    182.50    29.200000             105.0\n",
       "99847  5.42    152.54    22.280000          152676.0\n",
       "\n",
       "[11430 rows x 4 columns]"
      ]
     },
     "execution_count": 18,
     "metadata": {},
     "output_type": "execute_result"
    }
   ],
   "source": [
    "X"
   ]
  },
  {
   "cell_type": "code",
   "execution_count": 19,
   "id": "6c01ced4",
   "metadata": {},
   "outputs": [
    {
     "data": {
      "text/plain": [
       "6         75400.0\n",
       "12        37300.0\n",
       "20        84400.0\n",
       "25       137400.0\n",
       "31       429300.0\n",
       "           ...   \n",
       "99829    348095.0\n",
       "99831    201733.0\n",
       "99836        35.0\n",
       "99846       281.0\n",
       "99847    261435.0\n",
       "Name: Production_in_tons, Length: 11430, dtype: float64"
      ]
     },
     "execution_count": 19,
     "metadata": {},
     "output_type": "execute_result"
    }
   ],
   "source": [
    "Y"
   ]
  },
  {
   "cell_type": "code",
   "execution_count": 20,
   "id": "c2dbbdfe",
   "metadata": {},
   "outputs": [],
   "source": [
    "from sklearn.model_selection import train_test_split"
   ]
  },
  {
   "cell_type": "code",
   "execution_count": 21,
   "id": "4d39dec7",
   "metadata": {},
   "outputs": [],
   "source": [
    "X_train,X_test,Y_train,Y_test=train_test_split(X,Y,test_size=0.2,random_state=100)"
   ]
  },
  {
   "cell_type": "code",
   "execution_count": 22,
   "id": "59d714cb",
   "metadata": {},
   "outputs": [
    {
     "data": {
      "text/html": [
       "<div>\n",
       "<style scoped>\n",
       "    .dataframe tbody tr th:only-of-type {\n",
       "        vertical-align: middle;\n",
       "    }\n",
       "\n",
       "    .dataframe tbody tr th {\n",
       "        vertical-align: top;\n",
       "    }\n",
       "\n",
       "    .dataframe thead th {\n",
       "        text-align: right;\n",
       "    }\n",
       "</style>\n",
       "<table border=\"1\" class=\"dataframe\">\n",
       "  <thead>\n",
       "    <tr style=\"text-align: right;\">\n",
       "      <th></th>\n",
       "      <th>pH</th>\n",
       "      <th>rainfall</th>\n",
       "      <th>temperature</th>\n",
       "      <th>Area_in_hectares</th>\n",
       "    </tr>\n",
       "  </thead>\n",
       "  <tbody>\n",
       "    <tr>\n",
       "      <th>70487</th>\n",
       "      <td>5.62</td>\n",
       "      <td>182.500000</td>\n",
       "      <td>29.200000</td>\n",
       "      <td>39320.0</td>\n",
       "    </tr>\n",
       "    <tr>\n",
       "      <th>84117</th>\n",
       "      <td>5.68</td>\n",
       "      <td>770.440000</td>\n",
       "      <td>28.680000</td>\n",
       "      <td>152852.0</td>\n",
       "    </tr>\n",
       "    <tr>\n",
       "      <th>44362</th>\n",
       "      <td>5.38</td>\n",
       "      <td>1011.490000</td>\n",
       "      <td>30.430000</td>\n",
       "      <td>6103.0</td>\n",
       "    </tr>\n",
       "    <tr>\n",
       "      <th>3834</th>\n",
       "      <td>5.50</td>\n",
       "      <td>579.750000</td>\n",
       "      <td>34.010000</td>\n",
       "      <td>81826.0</td>\n",
       "    </tr>\n",
       "    <tr>\n",
       "      <th>59217</th>\n",
       "      <td>5.66</td>\n",
       "      <td>330.000000</td>\n",
       "      <td>29.333333</td>\n",
       "      <td>82.0</td>\n",
       "    </tr>\n",
       "    <tr>\n",
       "      <th>...</th>\n",
       "      <td>...</td>\n",
       "      <td>...</td>\n",
       "      <td>...</td>\n",
       "      <td>...</td>\n",
       "    </tr>\n",
       "    <tr>\n",
       "      <th>2385</th>\n",
       "      <td>5.56</td>\n",
       "      <td>423.745000</td>\n",
       "      <td>22.070000</td>\n",
       "      <td>17301.0</td>\n",
       "    </tr>\n",
       "    <tr>\n",
       "      <th>455</th>\n",
       "      <td>5.44</td>\n",
       "      <td>497.880000</td>\n",
       "      <td>25.033333</td>\n",
       "      <td>160.0</td>\n",
       "    </tr>\n",
       "    <tr>\n",
       "      <th>70530</th>\n",
       "      <td>5.40</td>\n",
       "      <td>182.500000</td>\n",
       "      <td>29.200000</td>\n",
       "      <td>147552.0</td>\n",
       "    </tr>\n",
       "    <tr>\n",
       "      <th>60879</th>\n",
       "      <td>5.44</td>\n",
       "      <td>10.265748</td>\n",
       "      <td>25.760000</td>\n",
       "      <td>6136.0</td>\n",
       "    </tr>\n",
       "    <tr>\n",
       "      <th>50323</th>\n",
       "      <td>5.46</td>\n",
       "      <td>3.940000</td>\n",
       "      <td>33.763333</td>\n",
       "      <td>500.0</td>\n",
       "    </tr>\n",
       "  </tbody>\n",
       "</table>\n",
       "<p>9144 rows × 4 columns</p>\n",
       "</div>"
      ],
      "text/plain": [
       "         pH     rainfall  temperature  Area_in_hectares\n",
       "70487  5.62   182.500000    29.200000           39320.0\n",
       "84117  5.68   770.440000    28.680000          152852.0\n",
       "44362  5.38  1011.490000    30.430000            6103.0\n",
       "3834   5.50   579.750000    34.010000           81826.0\n",
       "59217  5.66   330.000000    29.333333              82.0\n",
       "...     ...          ...          ...               ...\n",
       "2385   5.56   423.745000    22.070000           17301.0\n",
       "455    5.44   497.880000    25.033333             160.0\n",
       "70530  5.40   182.500000    29.200000          147552.0\n",
       "60879  5.44    10.265748    25.760000            6136.0\n",
       "50323  5.46     3.940000    33.763333             500.0\n",
       "\n",
       "[9144 rows x 4 columns]"
      ]
     },
     "execution_count": 22,
     "metadata": {},
     "output_type": "execute_result"
    }
   ],
   "source": [
    "X_train"
   ]
  },
  {
   "cell_type": "code",
   "execution_count": 23,
   "id": "28168a41",
   "metadata": {},
   "outputs": [
    {
     "data": {
      "text/html": [
       "<div>\n",
       "<style scoped>\n",
       "    .dataframe tbody tr th:only-of-type {\n",
       "        vertical-align: middle;\n",
       "    }\n",
       "\n",
       "    .dataframe tbody tr th {\n",
       "        vertical-align: top;\n",
       "    }\n",
       "\n",
       "    .dataframe thead th {\n",
       "        text-align: right;\n",
       "    }\n",
       "</style>\n",
       "<table border=\"1\" class=\"dataframe\">\n",
       "  <thead>\n",
       "    <tr style=\"text-align: right;\">\n",
       "      <th></th>\n",
       "      <th>pH</th>\n",
       "      <th>rainfall</th>\n",
       "      <th>temperature</th>\n",
       "      <th>Area_in_hectares</th>\n",
       "    </tr>\n",
       "  </thead>\n",
       "  <tbody>\n",
       "    <tr>\n",
       "      <th>79255</th>\n",
       "      <td>5.42</td>\n",
       "      <td>87.2000</td>\n",
       "      <td>23.106000</td>\n",
       "      <td>39639.0</td>\n",
       "    </tr>\n",
       "    <tr>\n",
       "      <th>93707</th>\n",
       "      <td>5.50</td>\n",
       "      <td>87.2000</td>\n",
       "      <td>23.106000</td>\n",
       "      <td>42986.0</td>\n",
       "    </tr>\n",
       "    <tr>\n",
       "      <th>89520</th>\n",
       "      <td>5.50</td>\n",
       "      <td>235.4251</td>\n",
       "      <td>26.646667</td>\n",
       "      <td>5257.0</td>\n",
       "    </tr>\n",
       "    <tr>\n",
       "      <th>22473</th>\n",
       "      <td>5.42</td>\n",
       "      <td>411.5200</td>\n",
       "      <td>34.730000</td>\n",
       "      <td>357000.0</td>\n",
       "    </tr>\n",
       "    <tr>\n",
       "      <th>67634</th>\n",
       "      <td>5.56</td>\n",
       "      <td>1145.2200</td>\n",
       "      <td>28.500000</td>\n",
       "      <td>63000.0</td>\n",
       "    </tr>\n",
       "    <tr>\n",
       "      <th>...</th>\n",
       "      <td>...</td>\n",
       "      <td>...</td>\n",
       "      <td>...</td>\n",
       "      <td>...</td>\n",
       "    </tr>\n",
       "    <tr>\n",
       "      <th>46940</th>\n",
       "      <td>5.56</td>\n",
       "      <td>297.6600</td>\n",
       "      <td>29.566667</td>\n",
       "      <td>70722.0</td>\n",
       "    </tr>\n",
       "    <tr>\n",
       "      <th>16626</th>\n",
       "      <td>5.56</td>\n",
       "      <td>579.7500</td>\n",
       "      <td>34.010000</td>\n",
       "      <td>31898.0</td>\n",
       "    </tr>\n",
       "    <tr>\n",
       "      <th>36958</th>\n",
       "      <td>5.42</td>\n",
       "      <td>1145.2200</td>\n",
       "      <td>28.500000</td>\n",
       "      <td>122000.0</td>\n",
       "    </tr>\n",
       "    <tr>\n",
       "      <th>18001</th>\n",
       "      <td>5.66</td>\n",
       "      <td>654.3400</td>\n",
       "      <td>29.266667</td>\n",
       "      <td>129907.0</td>\n",
       "    </tr>\n",
       "    <tr>\n",
       "      <th>4016</th>\n",
       "      <td>5.68</td>\n",
       "      <td>579.7500</td>\n",
       "      <td>34.010000</td>\n",
       "      <td>13215.0</td>\n",
       "    </tr>\n",
       "  </tbody>\n",
       "</table>\n",
       "<p>2286 rows × 4 columns</p>\n",
       "</div>"
      ],
      "text/plain": [
       "         pH   rainfall  temperature  Area_in_hectares\n",
       "79255  5.42    87.2000    23.106000           39639.0\n",
       "93707  5.50    87.2000    23.106000           42986.0\n",
       "89520  5.50   235.4251    26.646667            5257.0\n",
       "22473  5.42   411.5200    34.730000          357000.0\n",
       "67634  5.56  1145.2200    28.500000           63000.0\n",
       "...     ...        ...          ...               ...\n",
       "46940  5.56   297.6600    29.566667           70722.0\n",
       "16626  5.56   579.7500    34.010000           31898.0\n",
       "36958  5.42  1145.2200    28.500000          122000.0\n",
       "18001  5.66   654.3400    29.266667          129907.0\n",
       "4016   5.68   579.7500    34.010000           13215.0\n",
       "\n",
       "[2286 rows x 4 columns]"
      ]
     },
     "execution_count": 23,
     "metadata": {},
     "output_type": "execute_result"
    }
   ],
   "source": [
    "X_test"
   ]
  },
  {
   "cell_type": "code",
   "execution_count": 24,
   "id": "621c8ac8",
   "metadata": {},
   "outputs": [
    {
     "data": {
      "text/html": [
       "<div>\n",
       "<style scoped>\n",
       "    .dataframe tbody tr th:only-of-type {\n",
       "        vertical-align: middle;\n",
       "    }\n",
       "\n",
       "    .dataframe tbody tr th {\n",
       "        vertical-align: top;\n",
       "    }\n",
       "\n",
       "    .dataframe thead th {\n",
       "        text-align: right;\n",
       "    }\n",
       "</style>\n",
       "<table border=\"1\" class=\"dataframe\">\n",
       "  <thead>\n",
       "    <tr style=\"text-align: right;\">\n",
       "      <th></th>\n",
       "      <th>pH</th>\n",
       "      <th>rainfall</th>\n",
       "      <th>temperature</th>\n",
       "      <th>Area_in_hectares</th>\n",
       "    </tr>\n",
       "  </thead>\n",
       "  <tbody>\n",
       "    <tr>\n",
       "      <th>70487</th>\n",
       "      <td>5.62</td>\n",
       "      <td>182.500000</td>\n",
       "      <td>29.200000</td>\n",
       "      <td>39320.0</td>\n",
       "    </tr>\n",
       "    <tr>\n",
       "      <th>84117</th>\n",
       "      <td>5.68</td>\n",
       "      <td>770.440000</td>\n",
       "      <td>28.680000</td>\n",
       "      <td>152852.0</td>\n",
       "    </tr>\n",
       "    <tr>\n",
       "      <th>44362</th>\n",
       "      <td>5.38</td>\n",
       "      <td>1011.490000</td>\n",
       "      <td>30.430000</td>\n",
       "      <td>6103.0</td>\n",
       "    </tr>\n",
       "    <tr>\n",
       "      <th>3834</th>\n",
       "      <td>5.50</td>\n",
       "      <td>579.750000</td>\n",
       "      <td>34.010000</td>\n",
       "      <td>81826.0</td>\n",
       "    </tr>\n",
       "    <tr>\n",
       "      <th>59217</th>\n",
       "      <td>5.66</td>\n",
       "      <td>330.000000</td>\n",
       "      <td>29.333333</td>\n",
       "      <td>82.0</td>\n",
       "    </tr>\n",
       "    <tr>\n",
       "      <th>...</th>\n",
       "      <td>...</td>\n",
       "      <td>...</td>\n",
       "      <td>...</td>\n",
       "      <td>...</td>\n",
       "    </tr>\n",
       "    <tr>\n",
       "      <th>2385</th>\n",
       "      <td>5.56</td>\n",
       "      <td>423.745000</td>\n",
       "      <td>22.070000</td>\n",
       "      <td>17301.0</td>\n",
       "    </tr>\n",
       "    <tr>\n",
       "      <th>455</th>\n",
       "      <td>5.44</td>\n",
       "      <td>497.880000</td>\n",
       "      <td>25.033333</td>\n",
       "      <td>160.0</td>\n",
       "    </tr>\n",
       "    <tr>\n",
       "      <th>70530</th>\n",
       "      <td>5.40</td>\n",
       "      <td>182.500000</td>\n",
       "      <td>29.200000</td>\n",
       "      <td>147552.0</td>\n",
       "    </tr>\n",
       "    <tr>\n",
       "      <th>60879</th>\n",
       "      <td>5.44</td>\n",
       "      <td>10.265748</td>\n",
       "      <td>25.760000</td>\n",
       "      <td>6136.0</td>\n",
       "    </tr>\n",
       "    <tr>\n",
       "      <th>50323</th>\n",
       "      <td>5.46</td>\n",
       "      <td>3.940000</td>\n",
       "      <td>33.763333</td>\n",
       "      <td>500.0</td>\n",
       "    </tr>\n",
       "  </tbody>\n",
       "</table>\n",
       "<p>9144 rows × 4 columns</p>\n",
       "</div>"
      ],
      "text/plain": [
       "         pH     rainfall  temperature  Area_in_hectares\n",
       "70487  5.62   182.500000    29.200000           39320.0\n",
       "84117  5.68   770.440000    28.680000          152852.0\n",
       "44362  5.38  1011.490000    30.430000            6103.0\n",
       "3834   5.50   579.750000    34.010000           81826.0\n",
       "59217  5.66   330.000000    29.333333              82.0\n",
       "...     ...          ...          ...               ...\n",
       "2385   5.56   423.745000    22.070000           17301.0\n",
       "455    5.44   497.880000    25.033333             160.0\n",
       "70530  5.40   182.500000    29.200000          147552.0\n",
       "60879  5.44    10.265748    25.760000            6136.0\n",
       "50323  5.46     3.940000    33.763333             500.0\n",
       "\n",
       "[9144 rows x 4 columns]"
      ]
     },
     "execution_count": 24,
     "metadata": {},
     "output_type": "execute_result"
    }
   ],
   "source": [
    "X_train"
   ]
  },
  {
   "cell_type": "code",
   "execution_count": 25,
   "id": "a6f7cfa9",
   "metadata": {},
   "outputs": [
    {
     "data": {
      "text/plain": [
       "70487    110708.0\n",
       "84117    459932.0\n",
       "44362      8572.0\n",
       "3834     160619.0\n",
       "59217        89.0\n",
       "           ...   \n",
       "2385      22730.0\n",
       "455         192.0\n",
       "70530    471355.0\n",
       "60879     14266.0\n",
       "50323      1400.0\n",
       "Name: Production_in_tons, Length: 9144, dtype: float64"
      ]
     },
     "execution_count": 25,
     "metadata": {},
     "output_type": "execute_result"
    }
   ],
   "source": [
    "Y_train"
   ]
  },
  {
   "cell_type": "markdown",
   "id": "3ac71fe8",
   "metadata": {},
   "source": [
    "# Models"
   ]
  },
  {
   "cell_type": "code",
   "execution_count": 26,
   "id": "3cfe1765",
   "metadata": {},
   "outputs": [
    {
     "data": {
      "text/html": [
       "<div>\n",
       "<style scoped>\n",
       "    .dataframe tbody tr th:only-of-type {\n",
       "        vertical-align: middle;\n",
       "    }\n",
       "\n",
       "    .dataframe tbody tr th {\n",
       "        vertical-align: top;\n",
       "    }\n",
       "\n",
       "    .dataframe thead th {\n",
       "        text-align: right;\n",
       "    }\n",
       "</style>\n",
       "<table border=\"1\" class=\"dataframe\">\n",
       "  <thead>\n",
       "    <tr style=\"text-align: right;\">\n",
       "      <th></th>\n",
       "      <th>Method</th>\n",
       "      <th>MAE</th>\n",
       "      <th>R2</th>\n",
       "    </tr>\n",
       "  </thead>\n",
       "  <tbody>\n",
       "    <tr>\n",
       "      <th>0</th>\n",
       "      <td>Linear Regression</td>\n",
       "      <td>40775.716722</td>\n",
       "      <td>0.787515</td>\n",
       "    </tr>\n",
       "    <tr>\n",
       "      <th>1</th>\n",
       "      <td>Ridge Regression</td>\n",
       "      <td>40775.714422</td>\n",
       "      <td>0.787515</td>\n",
       "    </tr>\n",
       "    <tr>\n",
       "      <th>2</th>\n",
       "      <td>Decision Tree Regressor</td>\n",
       "      <td>24715.751627</td>\n",
       "      <td>0.891397</td>\n",
       "    </tr>\n",
       "    <tr>\n",
       "      <th>3</th>\n",
       "      <td>Random Forest Regressor</td>\n",
       "      <td>19055.213806</td>\n",
       "      <td>0.936001</td>\n",
       "    </tr>\n",
       "  </tbody>\n",
       "</table>\n",
       "</div>"
      ],
      "text/plain": [
       "                    Method           MAE        R2\n",
       "0        Linear Regression  40775.716722  0.787515\n",
       "1         Ridge Regression  40775.714422  0.787515\n",
       "2  Decision Tree Regressor  24715.751627  0.891397\n",
       "3  Random Forest Regressor  19055.213806  0.936001"
      ]
     },
     "metadata": {},
     "output_type": "display_data"
    }
   ],
   "source": [
    "from sklearn.linear_model import LinearRegression, Lasso, Ridge\n",
    "from sklearn.tree import DecisionTreeRegressor\n",
    "from sklearn.ensemble import RandomForestRegressor\n",
    "from sklearn.metrics import mean_absolute_error, r2_score\n",
    "import pandas as pd\n",
    "from IPython.display import display\n",
    "\n",
    "models = {\n",
    "    'Linear Regression': LinearRegression(),\n",
    "    'Ridge Regression': Ridge(),\n",
    "    'Decision Tree Regressor': DecisionTreeRegressor(),\n",
    "    'Random Forest Regressor': RandomForestRegressor()\n",
    "}\n",
    "\n",
    "results = []\n",
    "\n",
    "for name, model in models.items():\n",
    "    model.fit(X_train, Y_train)\n",
    "    y_pred = model.predict(X_test)\n",
    "    \n",
    "    mae = mean_absolute_error(Y_test, y_pred)\n",
    "    r2 = r2_score(Y_test, y_pred)\n",
    "    \n",
    "    results.append([name, mae, r2])\n",
    "\n",
    "# Create DataFrame for results\n",
    "df_models = pd.DataFrame(results, columns=['Method', 'MAE', 'R2'])\n",
    "\n",
    "# Additional results DataFrames\n",
    "# Assuming you have defined decision_tree_mae, decision_tree_r2, Ridge_mae, Ridge_r2, Random_forest_mae, and Random_forest_r2\n",
    "\n",
    "\n",
    "\n",
    "# Concatenate all results DataFrames\n",
    "df_models = pd.concat([df_models], axis=0).reset_index(drop=True)\n",
    "\n",
    "# Display the combined DataFrame\n",
    "display(df_models)"
   ]
  },
  {
   "cell_type": "markdown",
   "id": "d8047ad7",
   "metadata": {},
   "source": [
    "# Select Model"
   ]
  },
  {
   "cell_type": "code",
   "execution_count": 34,
   "id": "5863124c",
   "metadata": {},
   "outputs": [
    {
     "data": {
      "text/plain": [
       "array([ 81958.48954578,  89319.2306867 ,  12101.06161852, ...,\n",
       "       249301.31852455, 278445.82214438,  37752.72564163])"
      ]
     },
     "execution_count": 34,
     "metadata": {},
     "output_type": "execute_result"
    }
   ],
   "source": [
    "dtr = DecisionTreeRegressor()\n",
    "dtr.fit(X_train,Y_train)\n",
    "dtr.predict(X_test)\n",
    "\n",
    "Rid = Ridge()\n",
    "Rid.fit(X_train,Y_train)\n",
    "Rid.predict(X_test)\n",
    "\n",
    "lss = Lasso()\n",
    "lss.fit(X_train,Y_train)\n",
    "lss.predict(X_test)\n",
    "\n",
    "rf=RandomForestRegressor()\n",
    "rf.fit(X_train,Y_train)\n",
    "rf.predict(X_test)\n",
    "\n",
    "lr=LinearRegression()\n",
    "lr.fit(X_train,Y_train)\n",
    "lr.predict(X_test)"
   ]
  },
  {
   "cell_type": "markdown",
   "id": "ad6479d1",
   "metadata": {},
   "source": [
    "# Stacking Regression"
   ]
  },
  {
   "cell_type": "code",
   "execution_count": 35,
   "id": "c70ccf79",
   "metadata": {},
   "outputs": [],
   "source": [
    "from sklearn.ensemble import StackingRegressor"
   ]
  },
  {
   "cell_type": "code",
   "execution_count": 36,
   "id": "2d70bc4e",
   "metadata": {},
   "outputs": [],
   "source": [
    "estimators_dr=[\n",
    "    ('linear',lr),\n",
    "    ('Ridge',Rid),\n",
    "    ('Random',rf)\n",
    "]"
   ]
  },
  {
   "cell_type": "code",
   "execution_count": 37,
   "id": "6852ade7",
   "metadata": {},
   "outputs": [],
   "source": [
    "sr_Decision=StackingRegressor(\n",
    "estimators=estimators_dr,\n",
    "final_estimator=dtr)"
   ]
  },
  {
   "cell_type": "code",
   "execution_count": 38,
   "id": "ab19e20b",
   "metadata": {},
   "outputs": [],
   "source": [
    "estimators_lr=[\n",
    "    ('Decision',dtr),\n",
    "    ('Ridge',Rid),\n",
    "    ('Random',rf)\n",
    "]"
   ]
  },
  {
   "cell_type": "code",
   "execution_count": 39,
   "id": "786c73e9",
   "metadata": {},
   "outputs": [],
   "source": [
    "sr_Linear=StackingRegressor(\n",
    "estimators=estimators_lr,\n",
    "final_estimator=lr)"
   ]
  },
  {
   "cell_type": "code",
   "execution_count": 40,
   "id": "f67b50bc",
   "metadata": {},
   "outputs": [],
   "source": [
    "estimators_ridge=[\n",
    "    ('Decision',dtr),\n",
    "    ('linear',lr),\n",
    "    ('Random',rf)\n",
    "]"
   ]
  },
  {
   "cell_type": "code",
   "execution_count": 41,
   "id": "5d2ae5f3",
   "metadata": {},
   "outputs": [],
   "source": [
    "sr_Ridge=StackingRegressor(\n",
    "estimators=estimators_ridge,\n",
    "final_estimator=Rid)"
   ]
  },
  {
   "cell_type": "code",
   "execution_count": 42,
   "id": "f4c747bf",
   "metadata": {},
   "outputs": [],
   "source": [
    "estimators_Random=[\n",
    "    ('Decision',dtr),\n",
    "    ('linear',lr),\n",
    "    ('Ridge',Rid)\n",
    "]"
   ]
  },
  {
   "cell_type": "code",
   "execution_count": 43,
   "id": "480d4120",
   "metadata": {},
   "outputs": [],
   "source": [
    "sr_Random=StackingRegressor(\n",
    "estimators=estimators_Random,\n",
    "final_estimator=rf)"
   ]
  },
  {
   "cell_type": "code",
   "execution_count": 44,
   "id": "7dd2680a",
   "metadata": {},
   "outputs": [
    {
     "data": {
      "text/html": [
       "<style>#sk-container-id-1 {color: black;background-color: white;}#sk-container-id-1 pre{padding: 0;}#sk-container-id-1 div.sk-toggleable {background-color: white;}#sk-container-id-1 label.sk-toggleable__label {cursor: pointer;display: block;width: 100%;margin-bottom: 0;padding: 0.3em;box-sizing: border-box;text-align: center;}#sk-container-id-1 label.sk-toggleable__label-arrow:before {content: \"▸\";float: left;margin-right: 0.25em;color: #696969;}#sk-container-id-1 label.sk-toggleable__label-arrow:hover:before {color: black;}#sk-container-id-1 div.sk-estimator:hover label.sk-toggleable__label-arrow:before {color: black;}#sk-container-id-1 div.sk-toggleable__content {max-height: 0;max-width: 0;overflow: hidden;text-align: left;background-color: #f0f8ff;}#sk-container-id-1 div.sk-toggleable__content pre {margin: 0.2em;color: black;border-radius: 0.25em;background-color: #f0f8ff;}#sk-container-id-1 input.sk-toggleable__control:checked~div.sk-toggleable__content {max-height: 200px;max-width: 100%;overflow: auto;}#sk-container-id-1 input.sk-toggleable__control:checked~label.sk-toggleable__label-arrow:before {content: \"▾\";}#sk-container-id-1 div.sk-estimator input.sk-toggleable__control:checked~label.sk-toggleable__label {background-color: #d4ebff;}#sk-container-id-1 div.sk-label input.sk-toggleable__control:checked~label.sk-toggleable__label {background-color: #d4ebff;}#sk-container-id-1 input.sk-hidden--visually {border: 0;clip: rect(1px 1px 1px 1px);clip: rect(1px, 1px, 1px, 1px);height: 1px;margin: -1px;overflow: hidden;padding: 0;position: absolute;width: 1px;}#sk-container-id-1 div.sk-estimator {font-family: monospace;background-color: #f0f8ff;border: 1px dotted black;border-radius: 0.25em;box-sizing: border-box;margin-bottom: 0.5em;}#sk-container-id-1 div.sk-estimator:hover {background-color: #d4ebff;}#sk-container-id-1 div.sk-parallel-item::after {content: \"\";width: 100%;border-bottom: 1px solid gray;flex-grow: 1;}#sk-container-id-1 div.sk-label:hover label.sk-toggleable__label {background-color: #d4ebff;}#sk-container-id-1 div.sk-serial::before {content: \"\";position: absolute;border-left: 1px solid gray;box-sizing: border-box;top: 0;bottom: 0;left: 50%;z-index: 0;}#sk-container-id-1 div.sk-serial {display: flex;flex-direction: column;align-items: center;background-color: white;padding-right: 0.2em;padding-left: 0.2em;position: relative;}#sk-container-id-1 div.sk-item {position: relative;z-index: 1;}#sk-container-id-1 div.sk-parallel {display: flex;align-items: stretch;justify-content: center;background-color: white;position: relative;}#sk-container-id-1 div.sk-item::before, #sk-container-id-1 div.sk-parallel-item::before {content: \"\";position: absolute;border-left: 1px solid gray;box-sizing: border-box;top: 0;bottom: 0;left: 50%;z-index: -1;}#sk-container-id-1 div.sk-parallel-item {display: flex;flex-direction: column;z-index: 1;position: relative;background-color: white;}#sk-container-id-1 div.sk-parallel-item:first-child::after {align-self: flex-end;width: 50%;}#sk-container-id-1 div.sk-parallel-item:last-child::after {align-self: flex-start;width: 50%;}#sk-container-id-1 div.sk-parallel-item:only-child::after {width: 0;}#sk-container-id-1 div.sk-dashed-wrapped {border: 1px dashed gray;margin: 0 0.4em 0.5em 0.4em;box-sizing: border-box;padding-bottom: 0.4em;background-color: white;}#sk-container-id-1 div.sk-label label {font-family: monospace;font-weight: bold;display: inline-block;line-height: 1.2em;}#sk-container-id-1 div.sk-label-container {text-align: center;}#sk-container-id-1 div.sk-container {/* jupyter's `normalize.less` sets `[hidden] { display: none; }` but bootstrap.min.css set `[hidden] { display: none !important; }` so we also need the `!important` here to be able to override the default hidden behavior on the sphinx rendered scikit-learn.org. See: https://github.com/scikit-learn/scikit-learn/issues/21755 */display: inline-block !important;position: relative;}#sk-container-id-1 div.sk-text-repr-fallback {display: none;}</style><div id=\"sk-container-id-1\" class=\"sk-top-container\"><div class=\"sk-text-repr-fallback\"><pre>StackingRegressor(estimators=[(&#x27;linear&#x27;, LinearRegression()),\n",
       "                              (&#x27;Ridge&#x27;, Ridge()),\n",
       "                              (&#x27;Random&#x27;, RandomForestRegressor())],\n",
       "                  final_estimator=DecisionTreeRegressor())</pre><b>In a Jupyter environment, please rerun this cell to show the HTML representation or trust the notebook. <br />On GitHub, the HTML representation is unable to render, please try loading this page with nbviewer.org.</b></div><div class=\"sk-container\" hidden><div class=\"sk-item sk-dashed-wrapped\"><div class=\"sk-label-container\"><div class=\"sk-label sk-toggleable\"><input class=\"sk-toggleable__control sk-hidden--visually\" id=\"sk-estimator-id-1\" type=\"checkbox\" ><label for=\"sk-estimator-id-1\" class=\"sk-toggleable__label sk-toggleable__label-arrow\">StackingRegressor</label><div class=\"sk-toggleable__content\"><pre>StackingRegressor(estimators=[(&#x27;linear&#x27;, LinearRegression()),\n",
       "                              (&#x27;Ridge&#x27;, Ridge()),\n",
       "                              (&#x27;Random&#x27;, RandomForestRegressor())],\n",
       "                  final_estimator=DecisionTreeRegressor())</pre></div></div></div><div class=\"sk-serial\"><div class=\"sk-item\"><div class=\"sk-parallel\"><div class=\"sk-parallel-item\"><div class=\"sk-item\"><div class=\"sk-label-container\"><div class=\"sk-label sk-toggleable\"><label>linear</label></div></div><div class=\"sk-serial\"><div class=\"sk-item\"><div class=\"sk-estimator sk-toggleable\"><input class=\"sk-toggleable__control sk-hidden--visually\" id=\"sk-estimator-id-2\" type=\"checkbox\" ><label for=\"sk-estimator-id-2\" class=\"sk-toggleable__label sk-toggleable__label-arrow\">LinearRegression</label><div class=\"sk-toggleable__content\"><pre>LinearRegression()</pre></div></div></div></div></div></div><div class=\"sk-parallel-item\"><div class=\"sk-item\"><div class=\"sk-label-container\"><div class=\"sk-label sk-toggleable\"><label>Ridge</label></div></div><div class=\"sk-serial\"><div class=\"sk-item\"><div class=\"sk-estimator sk-toggleable\"><input class=\"sk-toggleable__control sk-hidden--visually\" id=\"sk-estimator-id-3\" type=\"checkbox\" ><label for=\"sk-estimator-id-3\" class=\"sk-toggleable__label sk-toggleable__label-arrow\">Ridge</label><div class=\"sk-toggleable__content\"><pre>Ridge()</pre></div></div></div></div></div></div><div class=\"sk-parallel-item\"><div class=\"sk-item\"><div class=\"sk-label-container\"><div class=\"sk-label sk-toggleable\"><label>Random</label></div></div><div class=\"sk-serial\"><div class=\"sk-item\"><div class=\"sk-estimator sk-toggleable\"><input class=\"sk-toggleable__control sk-hidden--visually\" id=\"sk-estimator-id-4\" type=\"checkbox\" ><label for=\"sk-estimator-id-4\" class=\"sk-toggleable__label sk-toggleable__label-arrow\">RandomForestRegressor</label><div class=\"sk-toggleable__content\"><pre>RandomForestRegressor()</pre></div></div></div></div></div></div></div></div><div class=\"sk-item\"><div class=\"sk-parallel\"><div class=\"sk-parallel-item\"><div class=\"sk-item\"><div class=\"sk-label-container\"><div class=\"sk-label sk-toggleable\"><label>final_estimator</label></div></div><div class=\"sk-serial\"><div class=\"sk-item\"><div class=\"sk-estimator sk-toggleable\"><input class=\"sk-toggleable__control sk-hidden--visually\" id=\"sk-estimator-id-5\" type=\"checkbox\" ><label for=\"sk-estimator-id-5\" class=\"sk-toggleable__label sk-toggleable__label-arrow\">DecisionTreeRegressor</label><div class=\"sk-toggleable__content\"><pre>DecisionTreeRegressor()</pre></div></div></div></div></div></div></div></div></div></div></div></div>"
      ],
      "text/plain": [
       "StackingRegressor(estimators=[('linear', LinearRegression()),\n",
       "                              ('Ridge', Ridge()),\n",
       "                              ('Random', RandomForestRegressor())],\n",
       "                  final_estimator=DecisionTreeRegressor())"
      ]
     },
     "execution_count": 44,
     "metadata": {},
     "output_type": "execute_result"
    }
   ],
   "source": [
    "sr_Decision.fit(X_train,Y_train)"
   ]
  },
  {
   "cell_type": "code",
   "execution_count": 45,
   "id": "61fabf30",
   "metadata": {},
   "outputs": [
    {
     "data": {
      "text/html": [
       "<style>#sk-container-id-2 {color: black;background-color: white;}#sk-container-id-2 pre{padding: 0;}#sk-container-id-2 div.sk-toggleable {background-color: white;}#sk-container-id-2 label.sk-toggleable__label {cursor: pointer;display: block;width: 100%;margin-bottom: 0;padding: 0.3em;box-sizing: border-box;text-align: center;}#sk-container-id-2 label.sk-toggleable__label-arrow:before {content: \"▸\";float: left;margin-right: 0.25em;color: #696969;}#sk-container-id-2 label.sk-toggleable__label-arrow:hover:before {color: black;}#sk-container-id-2 div.sk-estimator:hover label.sk-toggleable__label-arrow:before {color: black;}#sk-container-id-2 div.sk-toggleable__content {max-height: 0;max-width: 0;overflow: hidden;text-align: left;background-color: #f0f8ff;}#sk-container-id-2 div.sk-toggleable__content pre {margin: 0.2em;color: black;border-radius: 0.25em;background-color: #f0f8ff;}#sk-container-id-2 input.sk-toggleable__control:checked~div.sk-toggleable__content {max-height: 200px;max-width: 100%;overflow: auto;}#sk-container-id-2 input.sk-toggleable__control:checked~label.sk-toggleable__label-arrow:before {content: \"▾\";}#sk-container-id-2 div.sk-estimator input.sk-toggleable__control:checked~label.sk-toggleable__label {background-color: #d4ebff;}#sk-container-id-2 div.sk-label input.sk-toggleable__control:checked~label.sk-toggleable__label {background-color: #d4ebff;}#sk-container-id-2 input.sk-hidden--visually {border: 0;clip: rect(1px 1px 1px 1px);clip: rect(1px, 1px, 1px, 1px);height: 1px;margin: -1px;overflow: hidden;padding: 0;position: absolute;width: 1px;}#sk-container-id-2 div.sk-estimator {font-family: monospace;background-color: #f0f8ff;border: 1px dotted black;border-radius: 0.25em;box-sizing: border-box;margin-bottom: 0.5em;}#sk-container-id-2 div.sk-estimator:hover {background-color: #d4ebff;}#sk-container-id-2 div.sk-parallel-item::after {content: \"\";width: 100%;border-bottom: 1px solid gray;flex-grow: 1;}#sk-container-id-2 div.sk-label:hover label.sk-toggleable__label {background-color: #d4ebff;}#sk-container-id-2 div.sk-serial::before {content: \"\";position: absolute;border-left: 1px solid gray;box-sizing: border-box;top: 0;bottom: 0;left: 50%;z-index: 0;}#sk-container-id-2 div.sk-serial {display: flex;flex-direction: column;align-items: center;background-color: white;padding-right: 0.2em;padding-left: 0.2em;position: relative;}#sk-container-id-2 div.sk-item {position: relative;z-index: 1;}#sk-container-id-2 div.sk-parallel {display: flex;align-items: stretch;justify-content: center;background-color: white;position: relative;}#sk-container-id-2 div.sk-item::before, #sk-container-id-2 div.sk-parallel-item::before {content: \"\";position: absolute;border-left: 1px solid gray;box-sizing: border-box;top: 0;bottom: 0;left: 50%;z-index: -1;}#sk-container-id-2 div.sk-parallel-item {display: flex;flex-direction: column;z-index: 1;position: relative;background-color: white;}#sk-container-id-2 div.sk-parallel-item:first-child::after {align-self: flex-end;width: 50%;}#sk-container-id-2 div.sk-parallel-item:last-child::after {align-self: flex-start;width: 50%;}#sk-container-id-2 div.sk-parallel-item:only-child::after {width: 0;}#sk-container-id-2 div.sk-dashed-wrapped {border: 1px dashed gray;margin: 0 0.4em 0.5em 0.4em;box-sizing: border-box;padding-bottom: 0.4em;background-color: white;}#sk-container-id-2 div.sk-label label {font-family: monospace;font-weight: bold;display: inline-block;line-height: 1.2em;}#sk-container-id-2 div.sk-label-container {text-align: center;}#sk-container-id-2 div.sk-container {/* jupyter's `normalize.less` sets `[hidden] { display: none; }` but bootstrap.min.css set `[hidden] { display: none !important; }` so we also need the `!important` here to be able to override the default hidden behavior on the sphinx rendered scikit-learn.org. See: https://github.com/scikit-learn/scikit-learn/issues/21755 */display: inline-block !important;position: relative;}#sk-container-id-2 div.sk-text-repr-fallback {display: none;}</style><div id=\"sk-container-id-2\" class=\"sk-top-container\"><div class=\"sk-text-repr-fallback\"><pre>StackingRegressor(estimators=[(&#x27;Decision&#x27;, DecisionTreeRegressor()),\n",
       "                              (&#x27;Ridge&#x27;, Ridge()),\n",
       "                              (&#x27;Random&#x27;, RandomForestRegressor())],\n",
       "                  final_estimator=LinearRegression())</pre><b>In a Jupyter environment, please rerun this cell to show the HTML representation or trust the notebook. <br />On GitHub, the HTML representation is unable to render, please try loading this page with nbviewer.org.</b></div><div class=\"sk-container\" hidden><div class=\"sk-item sk-dashed-wrapped\"><div class=\"sk-label-container\"><div class=\"sk-label sk-toggleable\"><input class=\"sk-toggleable__control sk-hidden--visually\" id=\"sk-estimator-id-6\" type=\"checkbox\" ><label for=\"sk-estimator-id-6\" class=\"sk-toggleable__label sk-toggleable__label-arrow\">StackingRegressor</label><div class=\"sk-toggleable__content\"><pre>StackingRegressor(estimators=[(&#x27;Decision&#x27;, DecisionTreeRegressor()),\n",
       "                              (&#x27;Ridge&#x27;, Ridge()),\n",
       "                              (&#x27;Random&#x27;, RandomForestRegressor())],\n",
       "                  final_estimator=LinearRegression())</pre></div></div></div><div class=\"sk-serial\"><div class=\"sk-item\"><div class=\"sk-parallel\"><div class=\"sk-parallel-item\"><div class=\"sk-item\"><div class=\"sk-label-container\"><div class=\"sk-label sk-toggleable\"><label>Decision</label></div></div><div class=\"sk-serial\"><div class=\"sk-item\"><div class=\"sk-estimator sk-toggleable\"><input class=\"sk-toggleable__control sk-hidden--visually\" id=\"sk-estimator-id-7\" type=\"checkbox\" ><label for=\"sk-estimator-id-7\" class=\"sk-toggleable__label sk-toggleable__label-arrow\">DecisionTreeRegressor</label><div class=\"sk-toggleable__content\"><pre>DecisionTreeRegressor()</pre></div></div></div></div></div></div><div class=\"sk-parallel-item\"><div class=\"sk-item\"><div class=\"sk-label-container\"><div class=\"sk-label sk-toggleable\"><label>Ridge</label></div></div><div class=\"sk-serial\"><div class=\"sk-item\"><div class=\"sk-estimator sk-toggleable\"><input class=\"sk-toggleable__control sk-hidden--visually\" id=\"sk-estimator-id-8\" type=\"checkbox\" ><label for=\"sk-estimator-id-8\" class=\"sk-toggleable__label sk-toggleable__label-arrow\">Ridge</label><div class=\"sk-toggleable__content\"><pre>Ridge()</pre></div></div></div></div></div></div><div class=\"sk-parallel-item\"><div class=\"sk-item\"><div class=\"sk-label-container\"><div class=\"sk-label sk-toggleable\"><label>Random</label></div></div><div class=\"sk-serial\"><div class=\"sk-item\"><div class=\"sk-estimator sk-toggleable\"><input class=\"sk-toggleable__control sk-hidden--visually\" id=\"sk-estimator-id-9\" type=\"checkbox\" ><label for=\"sk-estimator-id-9\" class=\"sk-toggleable__label sk-toggleable__label-arrow\">RandomForestRegressor</label><div class=\"sk-toggleable__content\"><pre>RandomForestRegressor()</pre></div></div></div></div></div></div></div></div><div class=\"sk-item\"><div class=\"sk-parallel\"><div class=\"sk-parallel-item\"><div class=\"sk-item\"><div class=\"sk-label-container\"><div class=\"sk-label sk-toggleable\"><label>final_estimator</label></div></div><div class=\"sk-serial\"><div class=\"sk-item\"><div class=\"sk-estimator sk-toggleable\"><input class=\"sk-toggleable__control sk-hidden--visually\" id=\"sk-estimator-id-10\" type=\"checkbox\" ><label for=\"sk-estimator-id-10\" class=\"sk-toggleable__label sk-toggleable__label-arrow\">LinearRegression</label><div class=\"sk-toggleable__content\"><pre>LinearRegression()</pre></div></div></div></div></div></div></div></div></div></div></div></div>"
      ],
      "text/plain": [
       "StackingRegressor(estimators=[('Decision', DecisionTreeRegressor()),\n",
       "                              ('Ridge', Ridge()),\n",
       "                              ('Random', RandomForestRegressor())],\n",
       "                  final_estimator=LinearRegression())"
      ]
     },
     "execution_count": 45,
     "metadata": {},
     "output_type": "execute_result"
    }
   ],
   "source": [
    "sr_Linear.fit(X_train,Y_train)"
   ]
  },
  {
   "cell_type": "code",
   "execution_count": 46,
   "id": "129c1ed5",
   "metadata": {},
   "outputs": [
    {
     "data": {
      "text/html": [
       "<style>#sk-container-id-3 {color: black;background-color: white;}#sk-container-id-3 pre{padding: 0;}#sk-container-id-3 div.sk-toggleable {background-color: white;}#sk-container-id-3 label.sk-toggleable__label {cursor: pointer;display: block;width: 100%;margin-bottom: 0;padding: 0.3em;box-sizing: border-box;text-align: center;}#sk-container-id-3 label.sk-toggleable__label-arrow:before {content: \"▸\";float: left;margin-right: 0.25em;color: #696969;}#sk-container-id-3 label.sk-toggleable__label-arrow:hover:before {color: black;}#sk-container-id-3 div.sk-estimator:hover label.sk-toggleable__label-arrow:before {color: black;}#sk-container-id-3 div.sk-toggleable__content {max-height: 0;max-width: 0;overflow: hidden;text-align: left;background-color: #f0f8ff;}#sk-container-id-3 div.sk-toggleable__content pre {margin: 0.2em;color: black;border-radius: 0.25em;background-color: #f0f8ff;}#sk-container-id-3 input.sk-toggleable__control:checked~div.sk-toggleable__content {max-height: 200px;max-width: 100%;overflow: auto;}#sk-container-id-3 input.sk-toggleable__control:checked~label.sk-toggleable__label-arrow:before {content: \"▾\";}#sk-container-id-3 div.sk-estimator input.sk-toggleable__control:checked~label.sk-toggleable__label {background-color: #d4ebff;}#sk-container-id-3 div.sk-label input.sk-toggleable__control:checked~label.sk-toggleable__label {background-color: #d4ebff;}#sk-container-id-3 input.sk-hidden--visually {border: 0;clip: rect(1px 1px 1px 1px);clip: rect(1px, 1px, 1px, 1px);height: 1px;margin: -1px;overflow: hidden;padding: 0;position: absolute;width: 1px;}#sk-container-id-3 div.sk-estimator {font-family: monospace;background-color: #f0f8ff;border: 1px dotted black;border-radius: 0.25em;box-sizing: border-box;margin-bottom: 0.5em;}#sk-container-id-3 div.sk-estimator:hover {background-color: #d4ebff;}#sk-container-id-3 div.sk-parallel-item::after {content: \"\";width: 100%;border-bottom: 1px solid gray;flex-grow: 1;}#sk-container-id-3 div.sk-label:hover label.sk-toggleable__label {background-color: #d4ebff;}#sk-container-id-3 div.sk-serial::before {content: \"\";position: absolute;border-left: 1px solid gray;box-sizing: border-box;top: 0;bottom: 0;left: 50%;z-index: 0;}#sk-container-id-3 div.sk-serial {display: flex;flex-direction: column;align-items: center;background-color: white;padding-right: 0.2em;padding-left: 0.2em;position: relative;}#sk-container-id-3 div.sk-item {position: relative;z-index: 1;}#sk-container-id-3 div.sk-parallel {display: flex;align-items: stretch;justify-content: center;background-color: white;position: relative;}#sk-container-id-3 div.sk-item::before, #sk-container-id-3 div.sk-parallel-item::before {content: \"\";position: absolute;border-left: 1px solid gray;box-sizing: border-box;top: 0;bottom: 0;left: 50%;z-index: -1;}#sk-container-id-3 div.sk-parallel-item {display: flex;flex-direction: column;z-index: 1;position: relative;background-color: white;}#sk-container-id-3 div.sk-parallel-item:first-child::after {align-self: flex-end;width: 50%;}#sk-container-id-3 div.sk-parallel-item:last-child::after {align-self: flex-start;width: 50%;}#sk-container-id-3 div.sk-parallel-item:only-child::after {width: 0;}#sk-container-id-3 div.sk-dashed-wrapped {border: 1px dashed gray;margin: 0 0.4em 0.5em 0.4em;box-sizing: border-box;padding-bottom: 0.4em;background-color: white;}#sk-container-id-3 div.sk-label label {font-family: monospace;font-weight: bold;display: inline-block;line-height: 1.2em;}#sk-container-id-3 div.sk-label-container {text-align: center;}#sk-container-id-3 div.sk-container {/* jupyter's `normalize.less` sets `[hidden] { display: none; }` but bootstrap.min.css set `[hidden] { display: none !important; }` so we also need the `!important` here to be able to override the default hidden behavior on the sphinx rendered scikit-learn.org. See: https://github.com/scikit-learn/scikit-learn/issues/21755 */display: inline-block !important;position: relative;}#sk-container-id-3 div.sk-text-repr-fallback {display: none;}</style><div id=\"sk-container-id-3\" class=\"sk-top-container\"><div class=\"sk-text-repr-fallback\"><pre>StackingRegressor(estimators=[(&#x27;Decision&#x27;, DecisionTreeRegressor()),\n",
       "                              (&#x27;linear&#x27;, LinearRegression()),\n",
       "                              (&#x27;Ridge&#x27;, Ridge())],\n",
       "                  final_estimator=RandomForestRegressor())</pre><b>In a Jupyter environment, please rerun this cell to show the HTML representation or trust the notebook. <br />On GitHub, the HTML representation is unable to render, please try loading this page with nbviewer.org.</b></div><div class=\"sk-container\" hidden><div class=\"sk-item sk-dashed-wrapped\"><div class=\"sk-label-container\"><div class=\"sk-label sk-toggleable\"><input class=\"sk-toggleable__control sk-hidden--visually\" id=\"sk-estimator-id-11\" type=\"checkbox\" ><label for=\"sk-estimator-id-11\" class=\"sk-toggleable__label sk-toggleable__label-arrow\">StackingRegressor</label><div class=\"sk-toggleable__content\"><pre>StackingRegressor(estimators=[(&#x27;Decision&#x27;, DecisionTreeRegressor()),\n",
       "                              (&#x27;linear&#x27;, LinearRegression()),\n",
       "                              (&#x27;Ridge&#x27;, Ridge())],\n",
       "                  final_estimator=RandomForestRegressor())</pre></div></div></div><div class=\"sk-serial\"><div class=\"sk-item\"><div class=\"sk-parallel\"><div class=\"sk-parallel-item\"><div class=\"sk-item\"><div class=\"sk-label-container\"><div class=\"sk-label sk-toggleable\"><label>Decision</label></div></div><div class=\"sk-serial\"><div class=\"sk-item\"><div class=\"sk-estimator sk-toggleable\"><input class=\"sk-toggleable__control sk-hidden--visually\" id=\"sk-estimator-id-12\" type=\"checkbox\" ><label for=\"sk-estimator-id-12\" class=\"sk-toggleable__label sk-toggleable__label-arrow\">DecisionTreeRegressor</label><div class=\"sk-toggleable__content\"><pre>DecisionTreeRegressor()</pre></div></div></div></div></div></div><div class=\"sk-parallel-item\"><div class=\"sk-item\"><div class=\"sk-label-container\"><div class=\"sk-label sk-toggleable\"><label>linear</label></div></div><div class=\"sk-serial\"><div class=\"sk-item\"><div class=\"sk-estimator sk-toggleable\"><input class=\"sk-toggleable__control sk-hidden--visually\" id=\"sk-estimator-id-13\" type=\"checkbox\" ><label for=\"sk-estimator-id-13\" class=\"sk-toggleable__label sk-toggleable__label-arrow\">LinearRegression</label><div class=\"sk-toggleable__content\"><pre>LinearRegression()</pre></div></div></div></div></div></div><div class=\"sk-parallel-item\"><div class=\"sk-item\"><div class=\"sk-label-container\"><div class=\"sk-label sk-toggleable\"><label>Ridge</label></div></div><div class=\"sk-serial\"><div class=\"sk-item\"><div class=\"sk-estimator sk-toggleable\"><input class=\"sk-toggleable__control sk-hidden--visually\" id=\"sk-estimator-id-14\" type=\"checkbox\" ><label for=\"sk-estimator-id-14\" class=\"sk-toggleable__label sk-toggleable__label-arrow\">Ridge</label><div class=\"sk-toggleable__content\"><pre>Ridge()</pre></div></div></div></div></div></div></div></div><div class=\"sk-item\"><div class=\"sk-parallel\"><div class=\"sk-parallel-item\"><div class=\"sk-item\"><div class=\"sk-label-container\"><div class=\"sk-label sk-toggleable\"><label>final_estimator</label></div></div><div class=\"sk-serial\"><div class=\"sk-item\"><div class=\"sk-estimator sk-toggleable\"><input class=\"sk-toggleable__control sk-hidden--visually\" id=\"sk-estimator-id-15\" type=\"checkbox\" ><label for=\"sk-estimator-id-15\" class=\"sk-toggleable__label sk-toggleable__label-arrow\">RandomForestRegressor</label><div class=\"sk-toggleable__content\"><pre>RandomForestRegressor()</pre></div></div></div></div></div></div></div></div></div></div></div></div>"
      ],
      "text/plain": [
       "StackingRegressor(estimators=[('Decision', DecisionTreeRegressor()),\n",
       "                              ('linear', LinearRegression()),\n",
       "                              ('Ridge', Ridge())],\n",
       "                  final_estimator=RandomForestRegressor())"
      ]
     },
     "execution_count": 46,
     "metadata": {},
     "output_type": "execute_result"
    }
   ],
   "source": [
    "sr_Random.fit(X_train,Y_train)"
   ]
  },
  {
   "cell_type": "code",
   "execution_count": 47,
   "id": "cd77349f",
   "metadata": {},
   "outputs": [
    {
     "data": {
      "text/html": [
       "<style>#sk-container-id-4 {color: black;background-color: white;}#sk-container-id-4 pre{padding: 0;}#sk-container-id-4 div.sk-toggleable {background-color: white;}#sk-container-id-4 label.sk-toggleable__label {cursor: pointer;display: block;width: 100%;margin-bottom: 0;padding: 0.3em;box-sizing: border-box;text-align: center;}#sk-container-id-4 label.sk-toggleable__label-arrow:before {content: \"▸\";float: left;margin-right: 0.25em;color: #696969;}#sk-container-id-4 label.sk-toggleable__label-arrow:hover:before {color: black;}#sk-container-id-4 div.sk-estimator:hover label.sk-toggleable__label-arrow:before {color: black;}#sk-container-id-4 div.sk-toggleable__content {max-height: 0;max-width: 0;overflow: hidden;text-align: left;background-color: #f0f8ff;}#sk-container-id-4 div.sk-toggleable__content pre {margin: 0.2em;color: black;border-radius: 0.25em;background-color: #f0f8ff;}#sk-container-id-4 input.sk-toggleable__control:checked~div.sk-toggleable__content {max-height: 200px;max-width: 100%;overflow: auto;}#sk-container-id-4 input.sk-toggleable__control:checked~label.sk-toggleable__label-arrow:before {content: \"▾\";}#sk-container-id-4 div.sk-estimator input.sk-toggleable__control:checked~label.sk-toggleable__label {background-color: #d4ebff;}#sk-container-id-4 div.sk-label input.sk-toggleable__control:checked~label.sk-toggleable__label {background-color: #d4ebff;}#sk-container-id-4 input.sk-hidden--visually {border: 0;clip: rect(1px 1px 1px 1px);clip: rect(1px, 1px, 1px, 1px);height: 1px;margin: -1px;overflow: hidden;padding: 0;position: absolute;width: 1px;}#sk-container-id-4 div.sk-estimator {font-family: monospace;background-color: #f0f8ff;border: 1px dotted black;border-radius: 0.25em;box-sizing: border-box;margin-bottom: 0.5em;}#sk-container-id-4 div.sk-estimator:hover {background-color: #d4ebff;}#sk-container-id-4 div.sk-parallel-item::after {content: \"\";width: 100%;border-bottom: 1px solid gray;flex-grow: 1;}#sk-container-id-4 div.sk-label:hover label.sk-toggleable__label {background-color: #d4ebff;}#sk-container-id-4 div.sk-serial::before {content: \"\";position: absolute;border-left: 1px solid gray;box-sizing: border-box;top: 0;bottom: 0;left: 50%;z-index: 0;}#sk-container-id-4 div.sk-serial {display: flex;flex-direction: column;align-items: center;background-color: white;padding-right: 0.2em;padding-left: 0.2em;position: relative;}#sk-container-id-4 div.sk-item {position: relative;z-index: 1;}#sk-container-id-4 div.sk-parallel {display: flex;align-items: stretch;justify-content: center;background-color: white;position: relative;}#sk-container-id-4 div.sk-item::before, #sk-container-id-4 div.sk-parallel-item::before {content: \"\";position: absolute;border-left: 1px solid gray;box-sizing: border-box;top: 0;bottom: 0;left: 50%;z-index: -1;}#sk-container-id-4 div.sk-parallel-item {display: flex;flex-direction: column;z-index: 1;position: relative;background-color: white;}#sk-container-id-4 div.sk-parallel-item:first-child::after {align-self: flex-end;width: 50%;}#sk-container-id-4 div.sk-parallel-item:last-child::after {align-self: flex-start;width: 50%;}#sk-container-id-4 div.sk-parallel-item:only-child::after {width: 0;}#sk-container-id-4 div.sk-dashed-wrapped {border: 1px dashed gray;margin: 0 0.4em 0.5em 0.4em;box-sizing: border-box;padding-bottom: 0.4em;background-color: white;}#sk-container-id-4 div.sk-label label {font-family: monospace;font-weight: bold;display: inline-block;line-height: 1.2em;}#sk-container-id-4 div.sk-label-container {text-align: center;}#sk-container-id-4 div.sk-container {/* jupyter's `normalize.less` sets `[hidden] { display: none; }` but bootstrap.min.css set `[hidden] { display: none !important; }` so we also need the `!important` here to be able to override the default hidden behavior on the sphinx rendered scikit-learn.org. See: https://github.com/scikit-learn/scikit-learn/issues/21755 */display: inline-block !important;position: relative;}#sk-container-id-4 div.sk-text-repr-fallback {display: none;}</style><div id=\"sk-container-id-4\" class=\"sk-top-container\"><div class=\"sk-text-repr-fallback\"><pre>StackingRegressor(estimators=[(&#x27;Decision&#x27;, DecisionTreeRegressor()),\n",
       "                              (&#x27;linear&#x27;, LinearRegression()),\n",
       "                              (&#x27;Random&#x27;, RandomForestRegressor())],\n",
       "                  final_estimator=Ridge())</pre><b>In a Jupyter environment, please rerun this cell to show the HTML representation or trust the notebook. <br />On GitHub, the HTML representation is unable to render, please try loading this page with nbviewer.org.</b></div><div class=\"sk-container\" hidden><div class=\"sk-item sk-dashed-wrapped\"><div class=\"sk-label-container\"><div class=\"sk-label sk-toggleable\"><input class=\"sk-toggleable__control sk-hidden--visually\" id=\"sk-estimator-id-16\" type=\"checkbox\" ><label for=\"sk-estimator-id-16\" class=\"sk-toggleable__label sk-toggleable__label-arrow\">StackingRegressor</label><div class=\"sk-toggleable__content\"><pre>StackingRegressor(estimators=[(&#x27;Decision&#x27;, DecisionTreeRegressor()),\n",
       "                              (&#x27;linear&#x27;, LinearRegression()),\n",
       "                              (&#x27;Random&#x27;, RandomForestRegressor())],\n",
       "                  final_estimator=Ridge())</pre></div></div></div><div class=\"sk-serial\"><div class=\"sk-item\"><div class=\"sk-parallel\"><div class=\"sk-parallel-item\"><div class=\"sk-item\"><div class=\"sk-label-container\"><div class=\"sk-label sk-toggleable\"><label>Decision</label></div></div><div class=\"sk-serial\"><div class=\"sk-item\"><div class=\"sk-estimator sk-toggleable\"><input class=\"sk-toggleable__control sk-hidden--visually\" id=\"sk-estimator-id-17\" type=\"checkbox\" ><label for=\"sk-estimator-id-17\" class=\"sk-toggleable__label sk-toggleable__label-arrow\">DecisionTreeRegressor</label><div class=\"sk-toggleable__content\"><pre>DecisionTreeRegressor()</pre></div></div></div></div></div></div><div class=\"sk-parallel-item\"><div class=\"sk-item\"><div class=\"sk-label-container\"><div class=\"sk-label sk-toggleable\"><label>linear</label></div></div><div class=\"sk-serial\"><div class=\"sk-item\"><div class=\"sk-estimator sk-toggleable\"><input class=\"sk-toggleable__control sk-hidden--visually\" id=\"sk-estimator-id-18\" type=\"checkbox\" ><label for=\"sk-estimator-id-18\" class=\"sk-toggleable__label sk-toggleable__label-arrow\">LinearRegression</label><div class=\"sk-toggleable__content\"><pre>LinearRegression()</pre></div></div></div></div></div></div><div class=\"sk-parallel-item\"><div class=\"sk-item\"><div class=\"sk-label-container\"><div class=\"sk-label sk-toggleable\"><label>Random</label></div></div><div class=\"sk-serial\"><div class=\"sk-item\"><div class=\"sk-estimator sk-toggleable\"><input class=\"sk-toggleable__control sk-hidden--visually\" id=\"sk-estimator-id-19\" type=\"checkbox\" ><label for=\"sk-estimator-id-19\" class=\"sk-toggleable__label sk-toggleable__label-arrow\">RandomForestRegressor</label><div class=\"sk-toggleable__content\"><pre>RandomForestRegressor()</pre></div></div></div></div></div></div></div></div><div class=\"sk-item\"><div class=\"sk-parallel\"><div class=\"sk-parallel-item\"><div class=\"sk-item\"><div class=\"sk-label-container\"><div class=\"sk-label sk-toggleable\"><label>final_estimator</label></div></div><div class=\"sk-serial\"><div class=\"sk-item\"><div class=\"sk-estimator sk-toggleable\"><input class=\"sk-toggleable__control sk-hidden--visually\" id=\"sk-estimator-id-20\" type=\"checkbox\" ><label for=\"sk-estimator-id-20\" class=\"sk-toggleable__label sk-toggleable__label-arrow\">Ridge</label><div class=\"sk-toggleable__content\"><pre>Ridge()</pre></div></div></div></div></div></div></div></div></div></div></div></div>"
      ],
      "text/plain": [
       "StackingRegressor(estimators=[('Decision', DecisionTreeRegressor()),\n",
       "                              ('linear', LinearRegression()),\n",
       "                              ('Random', RandomForestRegressor())],\n",
       "                  final_estimator=Ridge())"
      ]
     },
     "execution_count": 47,
     "metadata": {},
     "output_type": "execute_result"
    }
   ],
   "source": [
    "sr_Ridge.fit(X_train,Y_train)"
   ]
  },
  {
   "cell_type": "code",
   "execution_count": 48,
   "id": "1f15b7af",
   "metadata": {},
   "outputs": [],
   "source": [
    "y_stackpredic_Decisiontree=t=sr_Decision.predict(X_test)"
   ]
  },
  {
   "cell_type": "code",
   "execution_count": 49,
   "id": "d57c9920",
   "metadata": {},
   "outputs": [],
   "source": [
    "y_stackpredic_Random=sr_Random.predict(X_test)"
   ]
  },
  {
   "cell_type": "code",
   "execution_count": 50,
   "id": "c17dc8fe",
   "metadata": {},
   "outputs": [],
   "source": [
    "y_stackpredic_Ridge=sr_Ridge.predict(X_test)"
   ]
  },
  {
   "cell_type": "code",
   "execution_count": 51,
   "id": "e79e6a65",
   "metadata": {},
   "outputs": [],
   "source": [
    "y_stackpredic_Linear=sr_Linear.predict(X_test)"
   ]
  },
  {
   "cell_type": "markdown",
   "id": "dac414ea",
   "metadata": {},
   "source": [
    "# MAE of stacking regressor"
   ]
  },
  {
   "cell_type": "code",
   "execution_count": 52,
   "id": "671b2f7e",
   "metadata": {},
   "outputs": [],
   "source": [
    "decision_tree_mae=mean_absolute_error(Y_test,y_stackpredic_Decisiontree)"
   ]
  },
  {
   "cell_type": "code",
   "execution_count": 53,
   "id": "da80d65a",
   "metadata": {},
   "outputs": [],
   "source": [
    "Random_forest_mae=mean_absolute_error(Y_test,y_stackpredic_Random)"
   ]
  },
  {
   "cell_type": "code",
   "execution_count": 54,
   "id": "feec203d",
   "metadata": {},
   "outputs": [],
   "source": [
    "Ridge_mae=mean_absolute_error(Y_test,y_stackpredic_Ridge)"
   ]
  },
  {
   "cell_type": "code",
   "execution_count": 55,
   "id": "647b13c0",
   "metadata": {},
   "outputs": [],
   "source": [
    "Linear_mae=mean_absolute_error(Y_test,y_stackpredic_Linear)"
   ]
  },
  {
   "cell_type": "markdown",
   "id": "44d519dd",
   "metadata": {},
   "source": [
    "# R2 values of Stacking Regressor"
   ]
  },
  {
   "cell_type": "code",
   "execution_count": 56,
   "id": "bfee68bb",
   "metadata": {},
   "outputs": [],
   "source": [
    "decision_tree_r2=r2_score(Y_test,y_stackpredic_Decisiontree)"
   ]
  },
  {
   "cell_type": "code",
   "execution_count": 57,
   "id": "03705833",
   "metadata": {},
   "outputs": [],
   "source": [
    "Random_forest_r2=r2_score(Y_test,y_stackpredic_Random)"
   ]
  },
  {
   "cell_type": "code",
   "execution_count": 58,
   "id": "be44d1fa",
   "metadata": {},
   "outputs": [],
   "source": [
    "Ridge_r2=r2_score(Y_test,y_stackpredic_Ridge)"
   ]
  },
  {
   "cell_type": "code",
   "execution_count": 59,
   "id": "5025305d",
   "metadata": {},
   "outputs": [],
   "source": [
    "Linear_r2=r2_score(Y_test,y_stackpredic_Linear)"
   ]
  },
  {
   "cell_type": "code",
   "execution_count": 61,
   "id": "f5f36d56",
   "metadata": {},
   "outputs": [
    {
     "data": {
      "text/html": [
       "<div>\n",
       "<style scoped>\n",
       "    .dataframe tbody tr th:only-of-type {\n",
       "        vertical-align: middle;\n",
       "    }\n",
       "\n",
       "    .dataframe tbody tr th {\n",
       "        vertical-align: top;\n",
       "    }\n",
       "\n",
       "    .dataframe thead th {\n",
       "        text-align: right;\n",
       "    }\n",
       "</style>\n",
       "<table border=\"1\" class=\"dataframe\">\n",
       "  <thead>\n",
       "    <tr style=\"text-align: right;\">\n",
       "      <th></th>\n",
       "      <th>StackingMethod</th>\n",
       "      <th>MAE</th>\n",
       "      <th>R2</th>\n",
       "    </tr>\n",
       "  </thead>\n",
       "  <tbody>\n",
       "    <tr>\n",
       "      <th>0</th>\n",
       "      <td>Final Estimator-Decision Tree Regressor</td>\n",
       "      <td>28142.568097</td>\n",
       "      <td>0.864921</td>\n",
       "    </tr>\n",
       "    <tr>\n",
       "      <th>1</th>\n",
       "      <td>Final Estimator-Random Forest Regressor</td>\n",
       "      <td>23050.080722</td>\n",
       "      <td>0.910798</td>\n",
       "    </tr>\n",
       "    <tr>\n",
       "      <th>2</th>\n",
       "      <td>Final Estimator-Ridge</td>\n",
       "      <td>19420.835837</td>\n",
       "      <td>0.935494</td>\n",
       "    </tr>\n",
       "    <tr>\n",
       "      <th>3</th>\n",
       "      <td>Final Estimator-Linear Regressor</td>\n",
       "      <td>19424.909585</td>\n",
       "      <td>0.935683</td>\n",
       "    </tr>\n",
       "  </tbody>\n",
       "</table>\n",
       "</div>"
      ],
      "text/plain": [
       "                            StackingMethod           MAE        R2\n",
       "0  Final Estimator-Decision Tree Regressor  28142.568097  0.864921\n",
       "1  Final Estimator-Random Forest Regressor  23050.080722  0.910798\n",
       "2                    Final Estimator-Ridge  19420.835837  0.935494\n",
       "3         Final Estimator-Linear Regressor  19424.909585  0.935683"
      ]
     },
     "execution_count": 61,
     "metadata": {},
     "output_type": "execute_result"
    }
   ],
   "source": [
    "# Create DataFrames for each model\n",
    "rf_results = pd.DataFrame([['Final Estimator-Random Forest Regressor', Random_forest_mae, Random_forest_r2]], columns=['StackingMethod', 'MAE', 'R2'])\n",
    "dt_results = pd.DataFrame([['Final Estimator-Decision Tree Regressor', decision_tree_mae, decision_tree_r2]], columns=['StackingMethod', 'MAE', 'R2'])\n",
    "Rid_results = pd.DataFrame([['Final Estimator-Ridge', Ridge_mae, Ridge_r2]], columns=['StackingMethod', 'MAE', 'R2'])\n",
    "Linear_results = pd.DataFrame([['Final Estimator-Linear Regressor', Linear_mae, Linear_r2]], columns=['StackingMethod', 'MAE', 'R2'])\n",
    "\n",
    "# Concatenate the results nto a single DataFrame\n",
    "df_models = pd.concat([dt_results, rf_results, Rid_results, Linear_results], axis=0).reset_index(drop=True)\n",
    "\n",
    "# Display the combined DataFrame\n",
    "df_models"
   ]
  },
  {
   "cell_type": "markdown",
   "id": "385d2e1f",
   "metadata": {},
   "source": [
    "# Prediction function"
   ]
  },
  {
   "cell_type": "code",
   "execution_count": 62,
   "id": "384756c6",
   "metadata": {},
   "outputs": [
    {
     "name": "stdout",
     "output_type": "stream",
     "text": [
      "Predicted yield: 47620.0\n"
     ]
    }
   ],
   "source": [
    "def prediction(pH, rainfall, temperature, Area_in_hectares):\n",
    "    # Create an array of the input features\n",
    "    features = np.array([[pH, rainfall, temperature, Area_in_hectares]])\n",
    "\n",
    "    # Make the prediction directly using the trained model\n",
    "    predicted_yield = dtr.predict(features)\n",
    "\n",
    "    return predicted_yield[0]\n",
    "\n",
    "# Example input values\n",
    "pH =5.34\n",
    "rainfall = 330.00\n",
    "temperature =29.333333\n",
    "Area_in_hectares = 19058.00\n",
    "\n",
    "# Make prediction\n",
    "result = prediction(pH, rainfall, temperature, Area_in_hectares)\n",
    "\n",
    "print(\"Predicted yield:\", result)"
   ]
  },
  {
   "cell_type": "markdown",
   "id": "48528861",
   "metadata": {},
   "source": [
    "# Pickle files"
   ]
  },
  {
   "cell_type": "code",
   "execution_count": 63,
   "id": "bd738000",
   "metadata": {},
   "outputs": [],
   "source": [
    "import pickle\n",
    "pickle.dump(dtr,open('dtr.pkl','wb'))"
   ]
  },
  {
   "cell_type": "code",
   "execution_count": 64,
   "id": "051d2fae",
   "metadata": {},
   "outputs": [
    {
     "name": "stdout",
     "output_type": "stream",
     "text": [
      "1.2.2\n"
     ]
    }
   ],
   "source": [
    "import sklearn\n",
    "print(sklearn.__version__)"
   ]
  },
  {
   "cell_type": "code",
   "execution_count": null,
   "id": "7fc24d8b",
   "metadata": {},
   "outputs": [],
   "source": []
  }
 ],
 "metadata": {
  "kernelspec": {
   "display_name": "Python 3 (ipykernel)",
   "language": "python",
   "name": "python3"
  },
  "language_info": {
   "codemirror_mode": {
    "name": "ipython",
    "version": 3
   },
   "file_extension": ".py",
   "mimetype": "text/x-python",
   "name": "python",
   "nbconvert_exporter": "python",
   "pygments_lexer": "ipython3",
   "version": "3.11.7"
  }
 },
 "nbformat": 4,
 "nbformat_minor": 5
}
